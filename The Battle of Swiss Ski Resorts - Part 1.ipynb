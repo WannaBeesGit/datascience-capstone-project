{
 "cells": [
  {
   "cell_type": "markdown",
   "metadata": {},
   "source": [
    "# Capstone Project - The Battle of Swiss Ski Resorts"
   ]
  },
  {
   "cell_type": "markdown",
   "metadata": {},
   "source": [
    "This report is part of the Submission for the course Applied Data Science Capstone."
   ]
  },
  {
   "cell_type": "markdown",
   "metadata": {},
   "source": [
    "<hr>"
   ]
  },
  {
   "cell_type": "markdown",
   "metadata": {},
   "source": [
    "## Introduction"
   ]
  },
  {
   "cell_type": "markdown",
   "metadata": {},
   "source": [
    "Switzerland has numerous ski resorts, all of which have their own advantages. However, not all ski resorts have the same venues. In particular, if you want to spend your holiday in a nearby village, you need to consider which venues you would like to benefit from. Some villages offer wellness facilities, others focus more on culture, and still others offer a wide range of restaurants. "
   ]
  },
  {
   "cell_type": "markdown",
   "metadata": {},
   "source": [
    "## Business Problem"
   ]
  },
  {
   "cell_type": "markdown",
   "metadata": {},
   "source": [
    "For <strong>tourists</strong> who want to visit more than just one ski resort, it is difficult to find out which places suit their needs. Data analysis can help tourists to solve this problem. If a tourist likes what is on offer in the Laax ski resort for example, what other ski resorts are quite similar or belong to the same category?"
   ]
  },
  {
   "cell_type": "markdown",
   "metadata": {},
   "source": [
    "On the other hand, the same evaluation can help <strong>tourist regions</strong> to compare themselves with their competitors. The analysis enables the regions to determine their own position and to orientate their marketing activities accordingly."
   ]
  },
  {
   "cell_type": "markdown",
   "metadata": {},
   "source": [
    "## Data"
   ]
  },
  {
   "cell_type": "markdown",
   "metadata": {},
   "source": [
    "The list of Swiss ski resorts will be obtained from Wikipedia:\n",
    "https://en.wikipedia.org/wiki/List_of_ski_areas_and_resorts_in_Switzerland\n",
    "\n",
    "It not only contains all resorts but also information about their size i.e. the amout of lifts and ski pistes.\n",
    "\n",
    "The assignment of latitude and longitude will be based on the column \"Resort\" since this content resprents villages nearby."
   ]
  },
  {
   "cell_type": "markdown",
   "metadata": {},
   "source": [
    "The Foursquare location data is used to figure out nearby venues which are then used to categorize each resort."
   ]
  },
  {
   "cell_type": "markdown",
   "metadata": {},
   "source": [
    "<hr>"
   ]
  },
  {
   "cell_type": "code",
   "execution_count": null,
   "metadata": {},
   "outputs": [],
   "source": []
  }
 ],
 "metadata": {
  "kernelspec": {
   "display_name": "Python 3",
   "language": "python",
   "name": "python3"
  },
  "language_info": {
   "codemirror_mode": {
    "name": "ipython",
    "version": 3
   },
   "file_extension": ".py",
   "mimetype": "text/x-python",
   "name": "python",
   "nbconvert_exporter": "python",
   "pygments_lexer": "ipython3",
   "version": "3.7.4"
  }
 },
 "nbformat": 4,
 "nbformat_minor": 2
}
